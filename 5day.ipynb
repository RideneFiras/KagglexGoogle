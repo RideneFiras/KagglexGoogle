{
 "cells": [
  {
   "cell_type": "markdown",
   "id": "3b992b72",
   "metadata": {
    "papermill": {
     "duration": 0.004645,
     "end_time": "2025-04-21T00:13:20.636430",
     "exception": false,
     "start_time": "2025-04-21T00:13:20.631785",
     "status": "completed"
    },
    "tags": []
   },
   "source": [
    "# ✈️ Airline Assistant – GenAI Capstone (Kaggle x Google)\n",
    "\n",
    "This notebook is a submission for the **Google x Kaggle 5-Day Generative AI Event**.\n",
    "\n",
    "built a conversational airline assistant that:\n",
    "- Answers travel-related questions using embeddings and similarity search\n",
    "- Classifies user input to distinguish between questions and personal details\n",
    "- Collects user information across turns (name, flight number, issue, email)\n",
    "- Runs through an interactive Gradio chatbot interface\n",
    "\n",
    "You can test the assistant at the end of this notebook.\n",
    "\n",
    "Thanks to Kaggle & Google for the challenge! 🛫\n"
   ]
  },
  {
   "cell_type": "markdown",
   "id": "56a8dc2e",
   "metadata": {
    "papermill": {
     "duration": 0.003523,
     "end_time": "2025-04-21T00:13:20.644028",
     "exception": false,
     "start_time": "2025-04-21T00:13:20.640505",
     "status": "completed"
    },
    "tags": []
   },
   "source": [
    "# Imports & Setup"
   ]
  },
  {
   "cell_type": "code",
   "execution_count": 1,
   "id": "20928ad8",
   "metadata": {
    "_cell_guid": "b1076dfc-b9ad-4769-8c92-a6c4dae69d19",
    "_uuid": "8f2839f25d086af736a60e9eeb907d3b93b6e0e5",
    "execution": {
     "iopub.execute_input": "2025-04-21T00:13:20.652992Z",
     "iopub.status.busy": "2025-04-21T00:13:20.652567Z",
     "iopub.status.idle": "2025-04-21T00:13:23.128959Z",
     "shell.execute_reply": "2025-04-21T00:13:23.128056Z"
    },
    "papermill": {
     "duration": 2.483398,
     "end_time": "2025-04-21T00:13:23.131322",
     "exception": false,
     "start_time": "2025-04-21T00:13:20.647924",
     "status": "completed"
    },
    "tags": []
   },
   "outputs": [],
   "source": [
    "from kaggle_secrets import UserSecretsClient\n",
    "import google.generativeai as genai\n",
    "import numpy as np\n",
    "from numpy.linalg import norm\n",
    "\n",
    "# Load Gemini API key\n",
    "GOOGLE_API_KEY = UserSecretsClient().get_secret(\"GOOGLE_API_KEY\")\n",
    "genai.configure(api_key=GOOGLE_API_KEY)\n"
   ]
  },
  {
   "cell_type": "code",
   "execution_count": 2,
   "id": "b51705fe",
   "metadata": {
    "execution": {
     "iopub.execute_input": "2025-04-21T00:13:23.146973Z",
     "iopub.status.busy": "2025-04-21T00:13:23.145826Z",
     "iopub.status.idle": "2025-04-21T00:13:34.625196Z",
     "shell.execute_reply": "2025-04-21T00:13:34.623944Z"
    },
    "papermill": {
     "duration": 11.48882,
     "end_time": "2025-04-21T00:13:34.626911",
     "exception": false,
     "start_time": "2025-04-21T00:13:23.138091",
     "status": "completed"
    },
    "tags": []
   },
   "outputs": [
    {
     "name": "stdout",
     "output_type": "stream",
     "text": [
      "Collecting gradio\r\n",
      "  Downloading gradio-5.25.2-py3-none-any.whl.metadata (16 kB)\r\n",
      "Requirement already satisfied: aiofiles<25.0,>=22.0 in /usr/local/lib/python3.11/dist-packages (from gradio) (22.1.0)\r\n",
      "Requirement already satisfied: anyio<5.0,>=3.0 in /usr/local/lib/python3.11/dist-packages (from gradio) (3.7.1)\r\n",
      "Collecting fastapi<1.0,>=0.115.2 (from gradio)\r\n",
      "  Downloading fastapi-0.115.12-py3-none-any.whl.metadata (27 kB)\r\n",
      "Collecting ffmpy (from gradio)\r\n",
      "  Downloading ffmpy-0.5.0-py3-none-any.whl.metadata (3.0 kB)\r\n",
      "Collecting gradio-client==1.8.0 (from gradio)\r\n",
      "  Downloading gradio_client-1.8.0-py3-none-any.whl.metadata (7.1 kB)\r\n",
      "Collecting groovy~=0.1 (from gradio)\r\n",
      "  Downloading groovy-0.1.2-py3-none-any.whl.metadata (6.1 kB)\r\n",
      "Requirement already satisfied: httpx>=0.24.1 in /usr/local/lib/python3.11/dist-packages (from gradio) (0.28.1)\r\n",
      "Requirement already satisfied: huggingface-hub>=0.28.1 in /usr/local/lib/python3.11/dist-packages (from gradio) (0.30.2)\r\n",
      "Requirement already satisfied: jinja2<4.0 in /usr/local/lib/python3.11/dist-packages (from gradio) (3.1.6)\r\n",
      "Requirement already satisfied: markupsafe<4.0,>=2.0 in /usr/local/lib/python3.11/dist-packages (from gradio) (3.0.2)\r\n",
      "Requirement already satisfied: numpy<3.0,>=1.0 in /usr/local/lib/python3.11/dist-packages (from gradio) (1.26.4)\r\n",
      "Requirement already satisfied: orjson~=3.0 in /usr/local/lib/python3.11/dist-packages (from gradio) (3.10.15)\r\n",
      "Requirement already satisfied: packaging in /usr/local/lib/python3.11/dist-packages (from gradio) (24.2)\r\n",
      "Requirement already satisfied: pandas<3.0,>=1.0 in /usr/local/lib/python3.11/dist-packages (from gradio) (2.2.3)\r\n",
      "Requirement already satisfied: pillow<12.0,>=8.0 in /usr/local/lib/python3.11/dist-packages (from gradio) (11.1.0)\r\n",
      "Requirement already satisfied: pydantic<2.12,>=2.0 in /usr/local/lib/python3.11/dist-packages (from gradio) (2.11.3)\r\n",
      "Requirement already satisfied: pydub in /usr/local/lib/python3.11/dist-packages (from gradio) (0.25.1)\r\n",
      "Collecting python-multipart>=0.0.18 (from gradio)\r\n",
      "  Downloading python_multipart-0.0.20-py3-none-any.whl.metadata (1.8 kB)\r\n",
      "Requirement already satisfied: pyyaml<7.0,>=5.0 in /usr/local/lib/python3.11/dist-packages (from gradio) (6.0.2)\r\n",
      "Collecting ruff>=0.9.3 (from gradio)\r\n",
      "  Downloading ruff-0.11.6-py3-none-manylinux_2_17_x86_64.manylinux2014_x86_64.whl.metadata (25 kB)\r\n",
      "Collecting safehttpx<0.2.0,>=0.1.6 (from gradio)\r\n",
      "  Downloading safehttpx-0.1.6-py3-none-any.whl.metadata (4.2 kB)\r\n",
      "Collecting semantic-version~=2.0 (from gradio)\r\n",
      "  Downloading semantic_version-2.10.0-py2.py3-none-any.whl.metadata (9.7 kB)\r\n",
      "Collecting starlette<1.0,>=0.40.0 (from gradio)\r\n",
      "  Downloading starlette-0.46.2-py3-none-any.whl.metadata (6.2 kB)\r\n",
      "Collecting tomlkit<0.14.0,>=0.12.0 (from gradio)\r\n",
      "  Downloading tomlkit-0.13.2-py3-none-any.whl.metadata (2.7 kB)\r\n",
      "Requirement already satisfied: typer<1.0,>=0.12 in /usr/local/lib/python3.11/dist-packages (from gradio) (0.15.1)\r\n",
      "Requirement already satisfied: typing-extensions~=4.0 in /usr/local/lib/python3.11/dist-packages (from gradio) (4.13.1)\r\n",
      "Collecting uvicorn>=0.14.0 (from gradio)\r\n",
      "  Downloading uvicorn-0.34.2-py3-none-any.whl.metadata (6.5 kB)\r\n",
      "Requirement already satisfied: fsspec in /usr/local/lib/python3.11/dist-packages (from gradio-client==1.8.0->gradio) (2025.3.2)\r\n",
      "Requirement already satisfied: websockets<16.0,>=10.0 in /usr/local/lib/python3.11/dist-packages (from gradio-client==1.8.0->gradio) (14.2)\r\n",
      "Requirement already satisfied: idna>=2.8 in /usr/local/lib/python3.11/dist-packages (from anyio<5.0,>=3.0->gradio) (3.10)\r\n",
      "Requirement already satisfied: sniffio>=1.1 in /usr/local/lib/python3.11/dist-packages (from anyio<5.0,>=3.0->gradio) (1.3.1)\r\n",
      "Requirement already satisfied: certifi in /usr/local/lib/python3.11/dist-packages (from httpx>=0.24.1->gradio) (2025.1.31)\r\n",
      "Requirement already satisfied: httpcore==1.* in /usr/local/lib/python3.11/dist-packages (from httpx>=0.24.1->gradio) (1.0.7)\r\n",
      "Requirement already satisfied: h11<0.15,>=0.13 in /usr/local/lib/python3.11/dist-packages (from httpcore==1.*->httpx>=0.24.1->gradio) (0.14.0)\r\n",
      "Requirement already satisfied: filelock in /usr/local/lib/python3.11/dist-packages (from huggingface-hub>=0.28.1->gradio) (3.18.0)\r\n",
      "Requirement already satisfied: requests in /usr/local/lib/python3.11/dist-packages (from huggingface-hub>=0.28.1->gradio) (2.32.3)\r\n",
      "Requirement already satisfied: tqdm>=4.42.1 in /usr/local/lib/python3.11/dist-packages (from huggingface-hub>=0.28.1->gradio) (4.67.1)\r\n",
      "Requirement already satisfied: mkl_fft in /usr/local/lib/python3.11/dist-packages (from numpy<3.0,>=1.0->gradio) (1.3.8)\r\n",
      "Requirement already satisfied: mkl_random in /usr/local/lib/python3.11/dist-packages (from numpy<3.0,>=1.0->gradio) (1.2.4)\r\n",
      "Requirement already satisfied: mkl_umath in /usr/local/lib/python3.11/dist-packages (from numpy<3.0,>=1.0->gradio) (0.1.1)\r\n",
      "Requirement already satisfied: mkl in /usr/local/lib/python3.11/dist-packages (from numpy<3.0,>=1.0->gradio) (2025.1.0)\r\n",
      "Requirement already satisfied: tbb4py in /usr/local/lib/python3.11/dist-packages (from numpy<3.0,>=1.0->gradio) (2022.1.0)\r\n",
      "Requirement already satisfied: mkl-service in /usr/local/lib/python3.11/dist-packages (from numpy<3.0,>=1.0->gradio) (2.4.1)\r\n",
      "Requirement already satisfied: python-dateutil>=2.8.2 in /usr/local/lib/python3.11/dist-packages (from pandas<3.0,>=1.0->gradio) (2.9.0.post0)\r\n",
      "Requirement already satisfied: pytz>=2020.1 in /usr/local/lib/python3.11/dist-packages (from pandas<3.0,>=1.0->gradio) (2025.2)\r\n",
      "Requirement already satisfied: tzdata>=2022.7 in /usr/local/lib/python3.11/dist-packages (from pandas<3.0,>=1.0->gradio) (2025.2)\r\n",
      "Requirement already satisfied: annotated-types>=0.6.0 in /usr/local/lib/python3.11/dist-packages (from pydantic<2.12,>=2.0->gradio) (0.7.0)\r\n",
      "Requirement already satisfied: pydantic-core==2.33.1 in /usr/local/lib/python3.11/dist-packages (from pydantic<2.12,>=2.0->gradio) (2.33.1)\r\n",
      "Requirement already satisfied: typing-inspection>=0.4.0 in /usr/local/lib/python3.11/dist-packages (from pydantic<2.12,>=2.0->gradio) (0.4.0)\r\n",
      "Requirement already satisfied: click>=8.0.0 in /usr/local/lib/python3.11/dist-packages (from typer<1.0,>=0.12->gradio) (8.1.8)\r\n",
      "Requirement already satisfied: shellingham>=1.3.0 in /usr/local/lib/python3.11/dist-packages (from typer<1.0,>=0.12->gradio) (1.5.4)\r\n",
      "Requirement already satisfied: rich>=10.11.0 in /usr/local/lib/python3.11/dist-packages (from typer<1.0,>=0.12->gradio) (14.0.0)\r\n",
      "Requirement already satisfied: six>=1.5 in /usr/local/lib/python3.11/dist-packages (from python-dateutil>=2.8.2->pandas<3.0,>=1.0->gradio) (1.17.0)\r\n",
      "Requirement already satisfied: markdown-it-py>=2.2.0 in /usr/local/lib/python3.11/dist-packages (from rich>=10.11.0->typer<1.0,>=0.12->gradio) (3.0.0)\r\n",
      "Requirement already satisfied: pygments<3.0.0,>=2.13.0 in /usr/local/lib/python3.11/dist-packages (from rich>=10.11.0->typer<1.0,>=0.12->gradio) (2.19.1)\r\n",
      "Requirement already satisfied: intel-openmp<2026,>=2024 in /usr/local/lib/python3.11/dist-packages (from mkl->numpy<3.0,>=1.0->gradio) (2024.2.0)\r\n",
      "Requirement already satisfied: tbb==2022.* in /usr/local/lib/python3.11/dist-packages (from mkl->numpy<3.0,>=1.0->gradio) (2022.1.0)\r\n",
      "Requirement already satisfied: tcmlib==1.* in /usr/local/lib/python3.11/dist-packages (from tbb==2022.*->mkl->numpy<3.0,>=1.0->gradio) (1.2.0)\r\n",
      "Requirement already satisfied: intel-cmplr-lib-rt in /usr/local/lib/python3.11/dist-packages (from mkl_umath->numpy<3.0,>=1.0->gradio) (2024.2.0)\r\n",
      "Requirement already satisfied: charset-normalizer<4,>=2 in /usr/local/lib/python3.11/dist-packages (from requests->huggingface-hub>=0.28.1->gradio) (3.4.1)\r\n",
      "Requirement already satisfied: urllib3<3,>=1.21.1 in /usr/local/lib/python3.11/dist-packages (from requests->huggingface-hub>=0.28.1->gradio) (2.3.0)\r\n",
      "Requirement already satisfied: intel-cmplr-lib-ur==2024.2.0 in /usr/local/lib/python3.11/dist-packages (from intel-openmp<2026,>=2024->mkl->numpy<3.0,>=1.0->gradio) (2024.2.0)\r\n",
      "Requirement already satisfied: mdurl~=0.1 in /usr/local/lib/python3.11/dist-packages (from markdown-it-py>=2.2.0->rich>=10.11.0->typer<1.0,>=0.12->gradio) (0.1.2)\r\n",
      "Downloading gradio-5.25.2-py3-none-any.whl (46.9 MB)\r\n",
      "\u001b[2K   \u001b[90m━━━━━━━━━━━━━━━━━━━━━━━━━━━━━━━━━━━━━━━━\u001b[0m \u001b[32m46.9/46.9 MB\u001b[0m \u001b[31m36.0 MB/s\u001b[0m eta \u001b[36m0:00:00\u001b[0m\r\n",
      "\u001b[?25hDownloading gradio_client-1.8.0-py3-none-any.whl (322 kB)\r\n",
      "\u001b[2K   \u001b[90m━━━━━━━━━━━━━━━━━━━━━━━━━━━━━━━━━━━━━━━━\u001b[0m \u001b[32m322.2/322.2 kB\u001b[0m \u001b[31m19.8 MB/s\u001b[0m eta \u001b[36m0:00:00\u001b[0m\r\n",
      "\u001b[?25hDownloading fastapi-0.115.12-py3-none-any.whl (95 kB)\r\n",
      "\u001b[2K   \u001b[90m━━━━━━━━━━━━━━━━━━━━━━━━━━━━━━━━━━━━━━━━\u001b[0m \u001b[32m95.2/95.2 kB\u001b[0m \u001b[31m4.6 MB/s\u001b[0m eta \u001b[36m0:00:00\u001b[0m\r\n",
      "\u001b[?25hDownloading groovy-0.1.2-py3-none-any.whl (14 kB)\r\n",
      "Downloading python_multipart-0.0.20-py3-none-any.whl (24 kB)\r\n",
      "Downloading ruff-0.11.6-py3-none-manylinux_2_17_x86_64.manylinux2014_x86_64.whl (11.5 MB)\r\n",
      "\u001b[2K   \u001b[90m━━━━━━━━━━━━━━━━━━━━━━━━━━━━━━━━━━━━━━━━\u001b[0m \u001b[32m11.5/11.5 MB\u001b[0m \u001b[31m90.2 MB/s\u001b[0m eta \u001b[36m0:00:00\u001b[0m\r\n",
      "\u001b[?25hDownloading safehttpx-0.1.6-py3-none-any.whl (8.7 kB)\r\n",
      "Downloading semantic_version-2.10.0-py2.py3-none-any.whl (15 kB)\r\n",
      "Downloading starlette-0.46.2-py3-none-any.whl (72 kB)\r\n",
      "\u001b[2K   \u001b[90m━━━━━━━━━━━━━━━━━━━━━━━━━━━━━━━━━━━━━━━━\u001b[0m \u001b[32m72.0/72.0 kB\u001b[0m \u001b[31m3.7 MB/s\u001b[0m eta \u001b[36m0:00:00\u001b[0m\r\n",
      "\u001b[?25hDownloading tomlkit-0.13.2-py3-none-any.whl (37 kB)\r\n",
      "Downloading uvicorn-0.34.2-py3-none-any.whl (62 kB)\r\n",
      "\u001b[2K   \u001b[90m━━━━━━━━━━━━━━━━━━━━━━━━━━━━━━━━━━━━━━━━\u001b[0m \u001b[32m62.5/62.5 kB\u001b[0m \u001b[31m3.1 MB/s\u001b[0m eta \u001b[36m0:00:00\u001b[0m\r\n",
      "\u001b[?25hDownloading ffmpy-0.5.0-py3-none-any.whl (6.0 kB)\r\n",
      "Installing collected packages: uvicorn, tomlkit, semantic-version, ruff, python-multipart, groovy, ffmpy, starlette, safehttpx, gradio-client, fastapi, gradio\r\n",
      "Successfully installed fastapi-0.115.12 ffmpy-0.5.0 gradio-5.25.2 gradio-client-1.8.0 groovy-0.1.2 python-multipart-0.0.20 ruff-0.11.6 safehttpx-0.1.6 semantic-version-2.10.0 starlette-0.46.2 tomlkit-0.13.2 uvicorn-0.34.2\r\n",
      "Note: you may need to restart the kernel to use updated packages.\n"
     ]
    }
   ],
   "source": [
    "pip install gradio\n"
   ]
  },
  {
   "cell_type": "markdown",
   "id": "31e862cb",
   "metadata": {
    "papermill": {
     "duration": 0.005777,
     "end_time": "2025-04-21T00:13:34.639097",
     "exception": false,
     "start_time": "2025-04-21T00:13:34.633320",
     "status": "completed"
    },
    "tags": []
   },
   "source": [
    "#  FAQ List"
   ]
  },
  {
   "cell_type": "code",
   "execution_count": 3,
   "id": "dd1c25e1",
   "metadata": {
    "execution": {
     "iopub.execute_input": "2025-04-21T00:13:34.652759Z",
     "iopub.status.busy": "2025-04-21T00:13:34.652366Z",
     "iopub.status.idle": "2025-04-21T00:13:34.659243Z",
     "shell.execute_reply": "2025-04-21T00:13:34.658454Z"
    },
    "papermill": {
     "duration": 0.015796,
     "end_time": "2025-04-21T00:13:34.660786",
     "exception": false,
     "start_time": "2025-04-21T00:13:34.644990",
     "status": "completed"
    },
    "tags": []
   },
   "outputs": [],
   "source": [
    "faq_list = [\n",
    "    {\n",
    "        \"question\": \"Can I bring a dog or any pet with me on the plane?\",\n",
    "        \"answer\": \"Yes, pets under 8kg can be brought in the cabin if they're in a secure carrier. Larger animals must travel in the cargo hold. Advance notice is required.\"\n",
    "    },\n",
    "    {\n",
    "        \"question\": \"How much is the fee for extra or overweight baggage?\",\n",
    "        \"answer\": \"Extra bags up to 23kg cost $30 each. For baggage over 23kg, overweight fees apply and vary based on your flight route.\"\n",
    "    },\n",
    "    {\n",
    "        \"question\": \"What identification do I need for airport check-in?\",\n",
    "        \"answer\": \"A valid government-issued photo ID is required for domestic flights. For international travel, a passport and necessary visas are mandatory.\"\n",
    "    },\n",
    "    {\n",
    "        \"question\": \"When should I arrive at the airport before departure?\",\n",
    "        \"answer\": \"You should arrive at least 2 hours before domestic flights and 3 hours before international flights to allow time for check-in and security.\"\n",
    "    },\n",
    "    {\n",
    "        \"question\": \"Can I change or modify my flight after booking?\",\n",
    "        \"answer\": \"Yes, you can change your flight up to 2 hours before departure. Change fees may apply depending on your fare class.\"\n",
    "    },\n",
    "    {\n",
    "        \"question\": \"Do I need a visa to travel internationally?\",\n",
    "        \"answer\": \"Visa requirements depend on your nationality and destination. Please check the destination country’s official government website for updated rules.\"\n",
    "    },\n",
    "    {\n",
    "        \"question\": \"Can I cancel my flight and get a refund?\",\n",
    "        \"answer\": \"You can cancel your booking up to 24 hours before departure. Refunds depend on your ticket type and cancellation policy.\"\n",
    "    },\n",
    "    {\n",
    "        \"question\": \"Is food provided on the flight?\",\n",
    "        \"answer\": \"We offer complimentary meals and snacks on international flights. For domestic routes, snacks and drinks may be available for purchase.\"\n",
    "    },\n",
    "    {\n",
    "        \"question\": \"Is Wi-Fi available during the flight?\",\n",
    "        \"answer\": \"Yes, Wi-Fi is available on most international flights and select domestic routes. Charges vary depending on your plan.\"\n",
    "    },\n",
    "    {\n",
    "        \"question\": \"Can I bring snacks or food through airport security?\",\n",
    "        \"answer\": \"Yes, solid foods like chips or sandwiches are allowed through security. Liquids over 100ml are not permitted.\"\n",
    "    }\n",
    "]\n"
   ]
  },
  {
   "cell_type": "markdown",
   "id": "a50752ed",
   "metadata": {
    "papermill": {
     "duration": 0.006235,
     "end_time": "2025-04-21T00:13:34.673749",
     "exception": false,
     "start_time": "2025-04-21T00:13:34.667514",
     "status": "completed"
    },
    "tags": []
   },
   "source": [
    "# Embedding Setup"
   ]
  },
  {
   "cell_type": "code",
   "execution_count": 4,
   "id": "c21df712",
   "metadata": {
    "execution": {
     "iopub.execute_input": "2025-04-21T00:13:34.687099Z",
     "iopub.status.busy": "2025-04-21T00:13:34.686756Z",
     "iopub.status.idle": "2025-04-21T00:13:38.481035Z",
     "shell.execute_reply": "2025-04-21T00:13:38.479894Z"
    },
    "papermill": {
     "duration": 3.803366,
     "end_time": "2025-04-21T00:13:38.483037",
     "exception": false,
     "start_time": "2025-04-21T00:13:34.679671",
     "status": "completed"
    },
    "tags": []
   },
   "outputs": [],
   "source": [
    "faq_questions = [item[\"question\"] for item in faq_list]\n",
    "\n",
    "faq_embeddings = [\n",
    "    genai.embed_content(\n",
    "        model=\"models/text-embedding-004\",\n",
    "        content=q,\n",
    "        task_type=\"retrieval_document\"\n",
    "    )[\"embedding\"]\n",
    "    for q in faq_questions\n",
    "]\n"
   ]
  },
  {
   "cell_type": "markdown",
   "id": "7cb4f934",
   "metadata": {
    "papermill": {
     "duration": 0.006242,
     "end_time": "2025-04-21T00:13:38.496002",
     "exception": false,
     "start_time": "2025-04-21T00:13:38.489760",
     "status": "completed"
    },
    "tags": []
   },
   "source": [
    "# FAQ Search Logic"
   ]
  },
  {
   "cell_type": "code",
   "execution_count": 5,
   "id": "50101240",
   "metadata": {
    "execution": {
     "iopub.execute_input": "2025-04-21T00:13:38.510132Z",
     "iopub.status.busy": "2025-04-21T00:13:38.509760Z",
     "iopub.status.idle": "2025-04-21T00:13:38.517030Z",
     "shell.execute_reply": "2025-04-21T00:13:38.515977Z"
    },
    "papermill": {
     "duration": 0.016345,
     "end_time": "2025-04-21T00:13:38.518614",
     "exception": false,
     "start_time": "2025-04-21T00:13:38.502269",
     "status": "completed"
    },
    "tags": []
   },
   "outputs": [],
   "source": [
    "def embed_query(text):\n",
    "    result = genai.embed_content(\n",
    "        model=\"models/text-embedding-004\",\n",
    "        content=text,\n",
    "        task_type=\"retrieval_query\"\n",
    "    )\n",
    "    return result[\"embedding\"]\n",
    "\n",
    "def find_best_faq_answer(user_question, threshold=0.6):\n",
    "    user_vector = embed_query(user_question)\n",
    "    similarities = [\n",
    "        np.dot(user_vector, faq_vec) / (norm(user_vector) * norm(faq_vec))\n",
    "        for faq_vec in faq_embeddings\n",
    "    ]\n",
    "\n",
    "    best_index = int(np.argmax(similarities))\n",
    "    best_score = similarities[best_index]\n",
    "\n",
    "    if best_score < threshold:\n",
    "        return {\n",
    "            \"match_question\": None,\n",
    "            \"answer\": None,\n",
    "            \"similarity\": round(best_score, 4)\n",
    "        }\n",
    "\n",
    "    return {\n",
    "        \"match_question\": faq_list[best_index][\"question\"],\n",
    "        \"answer\": faq_list[best_index][\"answer\"],\n",
    "        \"similarity\": round(best_score, 4)\n",
    "    }\n"
   ]
  },
  {
   "cell_type": "markdown",
   "id": "045fcb02",
   "metadata": {
    "execution": {
     "iopub.execute_input": "2025-04-20T18:50:23.785336Z",
     "iopub.status.busy": "2025-04-20T18:50:23.785003Z",
     "iopub.status.idle": "2025-04-20T18:50:23.789560Z",
     "shell.execute_reply": "2025-04-20T18:50:23.788573Z",
     "shell.execute_reply.started": "2025-04-20T18:50:23.785312Z"
    },
    "papermill": {
     "duration": 0.006959,
     "end_time": "2025-04-21T00:13:38.532306",
     "exception": false,
     "start_time": "2025-04-21T00:13:38.525347",
     "status": "completed"
    },
    "tags": []
   },
   "source": [
    "# Gemini Classifier + Extractor"
   ]
  },
  {
   "cell_type": "code",
   "execution_count": 6,
   "id": "71841cd9",
   "metadata": {
    "execution": {
     "iopub.execute_input": "2025-04-21T00:13:38.546475Z",
     "iopub.status.busy": "2025-04-21T00:13:38.546094Z",
     "iopub.status.idle": "2025-04-21T00:13:38.552037Z",
     "shell.execute_reply": "2025-04-21T00:13:38.550839Z"
    },
    "papermill": {
     "duration": 0.015466,
     "end_time": "2025-04-21T00:13:38.554142",
     "exception": false,
     "start_time": "2025-04-21T00:13:38.538676",
     "status": "completed"
    },
    "tags": []
   },
   "outputs": [],
   "source": [
    "def classify_user_input_with_flash(user_input):\n",
    "    prompt = f\"\"\"\n",
    "You're a smart input classifier for an airline assistant.\n",
    "\n",
    "Classify this input as:\n",
    "- \"faq\" → general travel question\n",
    "- \"info\" → personal detail (name, flight, or issue)\n",
    "\n",
    "Input: \"{user_input}\"\n",
    "Classification:\"\"\"\n",
    "    model = genai.GenerativeModel(\"models/gemini-2.0-flash\")\n",
    "    response = model.generate_content(prompt)\n",
    "    return response.text.strip().lower()"
   ]
  },
  {
   "cell_type": "code",
   "execution_count": 7,
   "id": "ef564de4",
   "metadata": {
    "execution": {
     "iopub.execute_input": "2025-04-21T00:13:38.568751Z",
     "iopub.status.busy": "2025-04-21T00:13:38.568322Z",
     "iopub.status.idle": "2025-04-21T00:13:38.574525Z",
     "shell.execute_reply": "2025-04-21T00:13:38.573548Z"
    },
    "papermill": {
     "duration": 0.015634,
     "end_time": "2025-04-21T00:13:38.576403",
     "exception": false,
     "start_time": "2025-04-21T00:13:38.560769",
     "status": "completed"
    },
    "tags": []
   },
   "outputs": [],
   "source": [
    "def extract_and_validate_field(field, raw_input):\n",
    "    prompt = f\"\"\"\n",
    "Extract the relevant value for the field: \"{field}\".  \n",
    "If no valid value is present, return \"none\".\n",
    "\n",
    "Examples:\n",
    "- Field: name | Input: \"My name is Firas\" → Firas\n",
    "- Field: confirmation_number | Input: \"AF101\" → AF101\n",
    "- Field: issue | Input: \"I lost my bag\" → lost my bag\n",
    "- Field: email | Input: \"You can send it to firas@mail.com\" → firas@mail.com\n",
    "- Field: confirmation_number | Input: \"sure!\" → none\n",
    "\n",
    "Input: \"{raw_input}\"  \n",
    "Output:\n",
    "\"\"\"\n",
    "    model = genai.GenerativeModel(\"models/gemini-2.0-flash\")\n",
    "    response = model.generate_content(prompt)\n",
    "    answer = response.text.strip()\n",
    "    return None if answer.lower() in [\"none\", \"not sure\", \"\"] else answer\n"
   ]
  },
  {
   "cell_type": "markdown",
   "id": "de5776a4",
   "metadata": {
    "papermill": {
     "duration": 0.006051,
     "end_time": "2025-04-21T00:13:38.589868",
     "exception": false,
     "start_time": "2025-04-21T00:13:38.583817",
     "status": "completed"
    },
    "tags": []
   },
   "source": [
    "# Assistant Logic"
   ]
  },
  {
   "cell_type": "code",
   "execution_count": 8,
   "id": "cac2ae54",
   "metadata": {
    "execution": {
     "iopub.execute_input": "2025-04-21T00:13:38.604486Z",
     "iopub.status.busy": "2025-04-21T00:13:38.604097Z",
     "iopub.status.idle": "2025-04-21T00:13:38.610251Z",
     "shell.execute_reply": "2025-04-21T00:13:38.609168Z"
    },
    "papermill": {
     "duration": 0.015684,
     "end_time": "2025-04-21T00:13:38.612023",
     "exception": false,
     "start_time": "2025-04-21T00:13:38.596339",
     "status": "completed"
    },
    "tags": []
   },
   "outputs": [],
   "source": [
    "def next_question(state):\n",
    "    for key in [\"name\", \"confirmation_number\", \"issue\", \"email\"]:\n",
    "        if state.get(key) is None:\n",
    "            question = {\n",
    "                \"name\": \"👋 Welcome! May I have your name?\",\n",
    "                \"confirmation_number\": \"Can you provide your flight confirmation number?\",\n",
    "                \"issue\": \"What issue are you facing? (e.g. lost baggage, delay, reschedule)\",\n",
    "                \"email\": \"Lastly, please enter your email to receive a summary of this conversation.\"\n",
    "            }\n",
    "            return key, question[key]\n",
    "    return None, None"
   ]
  },
  {
   "cell_type": "code",
   "execution_count": 9,
   "id": "454bdc39",
   "metadata": {
    "execution": {
     "iopub.execute_input": "2025-04-21T00:13:38.626995Z",
     "iopub.status.busy": "2025-04-21T00:13:38.626577Z",
     "iopub.status.idle": "2025-04-21T00:13:38.633522Z",
     "shell.execute_reply": "2025-04-21T00:13:38.632473Z"
    },
    "papermill": {
     "duration": 0.016763,
     "end_time": "2025-04-21T00:13:38.635340",
     "exception": false,
     "start_time": "2025-04-21T00:13:38.618577",
     "status": "completed"
    },
    "tags": []
   },
   "outputs": [],
   "source": [
    "def handle_user_input(user_input, state):\n",
    "    key, _ = next_question(state)\n",
    "    if key is None:\n",
    "        return \" All information has been collected.\", True\n",
    "\n",
    "    extracted = extract_and_validate_field(key, user_input)\n",
    "    if extracted is None:\n",
    "        return f\" I didn't catch that. Could you clarify your {key}?\", False\n",
    "\n",
    "    state[key] = extracted\n",
    "    _, next_q = next_question(state)\n",
    "\n",
    "    if next_q:\n",
    "        return next_q, True\n",
    "    else:\n",
    "        return (\n",
    "            f\"Thank you! Here's a summary of your information:\\n\"\n",
    "            f\"- Name: {state['name']}\\n\"\n",
    "            f\"- Flight: {state['confirmation_number']}\\n\"\n",
    "            f\"- Issue: {state['issue']}\\n\"\n",
    "            f\"- Email: {state['email']}\\n\\n\"\n",
    "            \"📧 A confirmation message will be sent to your email.\", True\n",
    "        )\n"
   ]
  },
  {
   "cell_type": "markdown",
   "id": "4a66cd35",
   "metadata": {
    "execution": {
     "iopub.execute_input": "2025-04-20T18:51:06.846635Z",
     "iopub.status.busy": "2025-04-20T18:51:06.846290Z",
     "iopub.status.idle": "2025-04-20T18:51:06.850931Z",
     "shell.execute_reply": "2025-04-20T18:51:06.849948Z",
     "shell.execute_reply.started": "2025-04-20T18:51:06.846613Z"
    },
    "papermill": {
     "duration": 0.006271,
     "end_time": "2025-04-21T00:13:38.648518",
     "exception": false,
     "start_time": "2025-04-21T00:13:38.642247",
     "status": "completed"
    },
    "tags": []
   },
   "source": [
    "# Hybrid Assistant (FAQ + Form Filling)"
   ]
  },
  {
   "cell_type": "code",
   "execution_count": 10,
   "id": "85ccbe40",
   "metadata": {
    "execution": {
     "iopub.execute_input": "2025-04-21T00:13:38.663398Z",
     "iopub.status.busy": "2025-04-21T00:13:38.663004Z",
     "iopub.status.idle": "2025-04-21T00:13:38.669441Z",
     "shell.execute_reply": "2025-04-21T00:13:38.668497Z"
    },
    "papermill": {
     "duration": 0.016306,
     "end_time": "2025-04-21T00:13:38.671331",
     "exception": false,
     "start_time": "2025-04-21T00:13:38.655025",
     "status": "completed"
    },
    "tags": []
   },
   "outputs": [],
   "source": [
    "def hybrid_assistant(user_input, state, threshold=0.6):\n",
    "    input_type = classify_user_input_with_flash(user_input)\n",
    "\n",
    "    if input_type == \"faq\":\n",
    "        result = find_best_faq_answer(user_input, threshold=threshold)\n",
    "        if result[\"match_question\"]:\n",
    "            return f\" FAQ Match:\\nQ: {result['match_question']}\\nA: {result['answer']}\"\n",
    "        else:\n",
    "            return \" I couldn't find a matching answer. Can I help you with your name, flight, or issue?\"\n",
    "\n",
    "    elif input_type == \"info\":\n",
    "        response, _ = handle_user_input(user_input, state)\n",
    "        return response\n",
    "\n",
    "    else:\n",
    "        return \" Sorry, I couldn't understand your input type.\"\n"
   ]
  },
  {
   "cell_type": "code",
   "execution_count": 11,
   "id": "a8aa989f",
   "metadata": {
    "execution": {
     "iopub.execute_input": "2025-04-21T00:13:38.686476Z",
     "iopub.status.busy": "2025-04-21T00:13:38.686097Z",
     "iopub.status.idle": "2025-04-21T00:13:44.460372Z",
     "shell.execute_reply": "2025-04-21T00:13:44.459321Z"
    },
    "papermill": {
     "duration": 5.783643,
     "end_time": "2025-04-21T00:13:44.461893",
     "exception": false,
     "start_time": "2025-04-21T00:13:38.678250",
     "status": "completed"
    },
    "tags": []
   },
   "outputs": [
    {
     "name": "stdout",
     "output_type": "stream",
     "text": [
      " Assistant reset. Current state: {'name': None, 'confirmation_number': None, 'issue': None, 'email': None}\n",
      " FAQ Match:\n",
      "Q: Can I bring a dog or any pet with me on the plane?\n",
      "A: Yes, pets under 8kg can be brought in the cabin if they're in a secure carrier. Larger animals must travel in the cargo hold. Advance notice is required.\n",
      "Can you provide your flight confirmation number?\n",
      "What issue are you facing? (e.g. lost baggage, delay, reschedule)\n",
      "Lastly, please enter your email to receive a summary of this conversation.\n",
      " FAQ Match:\n",
      "Q: Can I bring a dog or any pet with me on the plane?\n",
      "A: Yes, pets under 8kg can be brought in the cabin if they're in a secure carrier. Larger animals must travel in the cargo hold. Advance notice is required.\n",
      "Thank you! Here's a summary of your information:\n",
      "- Name: Firas Ridene\n",
      "- Flight: AF101\n",
      "- Issue: lost my bag in Rome\n",
      "- Email: firas.ridene@esprit.tn\n",
      "\n",
      "📧 A confirmation message will be sent to your email.\n",
      " FAQ Match:\n",
      "Q: Do I need a visa to travel internationally?\n",
      "A: Visa requirements depend on your nationality and destination. Please check the destination country’s official government website for updated rules.\n",
      "Final state: {'name': 'Firas Ridene', 'confirmation_number': 'AF101', 'issue': 'lost my bag in Rome', 'email': 'firas.ridene@esprit.tn'}\n"
     ]
    }
   ],
   "source": [
    "user_state = {\"name\": None, \"confirmation_number\": None, \"issue\": None, \"email\": None}\n",
    "print(\" Assistant reset. Current state:\", user_state)\n",
    "print(hybrid_assistant(\"Can i bring my dog?\", user_state))\n",
    "\n",
    "print(hybrid_assistant(\"My name is Firas Ridene\", user_state))\n",
    "print(hybrid_assistant(\"AF101\", user_state))\n",
    "print(hybrid_assistant(\"I lost my bag in Rome\", user_state))\n",
    "print(hybrid_assistant(\"Can i bring my cat?\", user_state))\n",
    "\n",
    "print(hybrid_assistant(\"firas.ridene@esprit.tn\", user_state))\n",
    "print(hybrid_assistant(\"Do I need a visa to fly to Italy?\", user_state))\n",
    "\n",
    "print(\"Final state:\", user_state)\n"
   ]
  },
  {
   "cell_type": "code",
   "execution_count": 12,
   "id": "4a474b38",
   "metadata": {
    "execution": {
     "iopub.execute_input": "2025-04-21T00:13:44.476120Z",
     "iopub.status.busy": "2025-04-21T00:13:44.475818Z",
     "iopub.status.idle": "2025-04-21T00:13:53.413499Z",
     "shell.execute_reply": "2025-04-21T00:13:53.412145Z"
    },
    "papermill": {
     "duration": 8.947001,
     "end_time": "2025-04-21T00:13:53.415492",
     "exception": false,
     "start_time": "2025-04-21T00:13:44.468491",
     "status": "completed"
    },
    "tags": []
   },
   "outputs": [
    {
     "name": "stdout",
     "output_type": "stream",
     "text": [
      "* Running on local URL:  http://127.0.0.1:7860\n",
      "* Running on public URL: https://99053acc3851e4d55d.gradio.live\n",
      "\n",
      "This share link expires in 1 week. For free permanent hosting and GPU upgrades, run `gradio deploy` from the terminal in the working directory to deploy to Hugging Face Spaces (https://huggingface.co/spaces)\n"
     ]
    },
    {
     "data": {
      "text/html": [
       "<div><iframe src=\"https://99053acc3851e4d55d.gradio.live\" width=\"100%\" height=\"500\" allow=\"autoplay; camera; microphone; clipboard-read; clipboard-write;\" frameborder=\"0\" allowfullscreen></iframe></div>"
      ],
      "text/plain": [
       "<IPython.core.display.HTML object>"
      ]
     },
     "metadata": {},
     "output_type": "display_data"
    },
    {
     "data": {
      "text/plain": []
     },
     "execution_count": 12,
     "metadata": {},
     "output_type": "execute_result"
    }
   ],
   "source": [
    "import gradio as gr\n",
    "\n",
    "# Reset chat state\n",
    "chat_state = {\n",
    "    \"name\": None,\n",
    "    \"confirmation_number\": None,\n",
    "    \"issue\": None,\n",
    "    \"email\": None  # still collected, but no sending\n",
    "}\n",
    "first_turn = True  # For the welcome message\n",
    "\n",
    "def chat_bot(message, history):\n",
    "    global first_turn\n",
    "\n",
    "    # 👋 Show welcome message at the start\n",
    "    if first_turn:\n",
    "        first_turn = False\n",
    "        return {\"role\": \"assistant\", \"content\": \"👋 Welcome! May I have your name?\"}\n",
    "\n",
    "    # 🧠 Route input to hybrid assistant\n",
    "    response = hybrid_assistant(message, chat_state)\n",
    "\n",
    "    # ✅ Once all info is gathered, show summary only (no email sending)\n",
    "    if all(chat_state.values()):\n",
    "        response += (\n",
    "            f\"\\n\\n✅ Summary of your details:\\n\"\n",
    "            f\"- Name: {chat_state['name']}\\n\"\n",
    "            f\"- Flight: {chat_state['confirmation_number']}\\n\"\n",
    "            f\"- Issue: {chat_state['issue']}\\n\"\n",
    "            f\"- Email: {chat_state['email']}\"\n",
    "        )\n",
    "\n",
    "    return {\"role\": \"assistant\", \"content\": response}\n",
    "\n",
    "# 🚀 Launch Gradio chat interface\n",
    "gr.ChatInterface(\n",
    "    chat_bot,\n",
    "    title=\"✈️ Airline Assistant\",\n",
    "    type=\"messages\"\n",
    ").launch(share=True)\n"
   ]
  },
  {
   "cell_type": "code",
   "execution_count": null,
   "id": "013537a1",
   "metadata": {
    "papermill": {
     "duration": 0.00701,
     "end_time": "2025-04-21T00:13:53.430283",
     "exception": false,
     "start_time": "2025-04-21T00:13:53.423273",
     "status": "completed"
    },
    "tags": []
   },
   "outputs": [],
   "source": []
  }
 ],
 "metadata": {
  "kaggle": {
   "accelerator": "none",
   "dataSources": [],
   "dockerImageVersionId": 31012,
   "isGpuEnabled": false,
   "isInternetEnabled": true,
   "language": "python",
   "sourceType": "notebook"
  },
  "kernelspec": {
   "display_name": "Python 3",
   "language": "python",
   "name": "python3"
  },
  "language_info": {
   "codemirror_mode": {
    "name": "ipython",
    "version": 3
   },
   "file_extension": ".py",
   "mimetype": "text/x-python",
   "name": "python",
   "nbconvert_exporter": "python",
   "pygments_lexer": "ipython3",
   "version": "3.11.11"
  },
  "papermill": {
   "default_parameters": {},
   "duration": 40.056469,
   "end_time": "2025-04-21T00:13:56.057922",
   "environment_variables": {},
   "exception": null,
   "input_path": "__notebook__.ipynb",
   "output_path": "__notebook__.ipynb",
   "parameters": {},
   "start_time": "2025-04-21T00:13:16.001453",
   "version": "2.6.0"
  }
 },
 "nbformat": 4,
 "nbformat_minor": 5
}
